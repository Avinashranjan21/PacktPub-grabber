{
 "cells": [
  {
   "cell_type": "code",
   "execution_count": 75,
   "metadata": {
    "collapsed": false
   },
   "outputs": [],
   "source": []
  },
  {
   "cell_type": "code",
   "execution_count": 93,
   "metadata": {
    "collapsed": false
   },
   "outputs": [],
   "source": [
    "from mechanize import Browser\n",
    "import re\n",
    "from bs4 import BeautifulSoup\n",
    "\n",
    "def login(br, url):\n",
    "    page = br.open(url)\n",
    "    br.select_form(nr=1)\n",
    "    br.form[\"email\"] = \"maiden_iron00@hotmail.com\"\n",
    "    br.form[\"password\"] = \"\"\n",
    "    br.submit()\n",
    "    \n",
    "def browse(br, url):\n",
    "    page = br.open(url)\n",
    "    soup = BeautifulSoup(page.read())\n",
    "    title_div = soup.find(\"div\", class_=\"dotd-title\")\n",
    "    title = title_div.get_text()\n",
    "    return title\n",
    "  \n",
    "def click(br):\n",
    "    req = br.click_link(url_regex=re.compile(\"freelearning-claim\"))\n",
    "    br.open(req)\n",
    "    \n",
    "def send_email(send_from, send_to, subject, body, password ):      \n",
    "    import smtplib\n",
    "    from email.MIMEMultipart import MIMEMultipart\n",
    "    from email.MIMEText import MIMEText\n",
    "\n",
    "    fromaddr = send_from \n",
    "    toaddr = send_to \n",
    "    msg = MIMEMultipart()\n",
    "    msg['From'] = fromaddr\n",
    "    msg['To'] = toaddr\n",
    "    msg['Subject'] = subject \n",
    "    msg.attach(MIMEText(body, 'plain'))\n",
    "\n",
    "    server = smtplib.SMTP('smtp.gmail.com', 587)\n",
    "    server.starttls()\n",
    "    server.login(fromaddr, password)\n",
    "    text = msg.as_string()\n",
    "    server.sendmail(fromaddr, toaddr, text)\n",
    "    server.quit() \n",
    "    \n",
    "br = Browser()\n",
    "success=True\n",
    "\n",
    "try:\n",
    "    login(br, \"http://www.packtpub.com\")\n",
    "    book_title = browse(br, \"http://www.packtpub.com/packt/offers/free-learning\")\n",
    "    click(br)\n",
    "except:\n",
    "    success=False\n",
    "    error_message = str(err)\n",
    "    \n",
    "if(success): outcome = \"Success: Grabbed the book \" + book_title.strip() + \" for free!\"\n",
    "else: outcome = \"Failure: \" + error_message\n",
    "    \n",
    "send_email(\"dummyupdateckp@gmail.com\", \"subigya.nepal@deerwalk.edu.np\", \"PacktPub Grabber\", outcome, \"\")\n"
   ]
  },
  {
   "cell_type": "code",
   "execution_count": null,
   "metadata": {
    "collapsed": false
   },
   "outputs": [],
   "source": []
  },
  {
   "cell_type": "code",
   "execution_count": null,
   "metadata": {
    "collapsed": true
   },
   "outputs": [],
   "source": []
  }
 ],
 "metadata": {
  "anaconda-cloud": {},
  "kernelspec": {
   "display_name": "Python [Root]",
   "language": "python",
   "name": "Python [Root]"
  },
  "language_info": {
   "codemirror_mode": {
    "name": "ipython",
    "version": 2
   },
   "file_extension": ".py",
   "mimetype": "text/x-python",
   "name": "python",
   "nbconvert_exporter": "python",
   "pygments_lexer": "ipython2",
   "version": "2.7.11"
  }
 },
 "nbformat": 4,
 "nbformat_minor": 0
}
